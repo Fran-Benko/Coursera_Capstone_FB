{
    "cells": [
        {
            "cell_type": "markdown",
            "metadata": {
                "collapsed": true
            },
            "source": "# Buenos Aires Neighborhood Analysis by Franco Benko"
        },
        {
            "cell_type": "markdown",
            "metadata": {},
            "source": "## Introduction"
        },
        {
            "cell_type": "markdown",
            "metadata": {},
            "source": "When you are trying to start a new business and you are searching where is the best place to rent a venue a lot of thing should be thought very carefully.\nMy project consists of performing an analysis of each neighborhood of my city Capital Federal to help you understand if the location in which you are thinking is appropriate.\n\n\n"
        },
        {
            "cell_type": "markdown",
            "metadata": {},
            "source": "![foto_1](https://www.estadisticaciudad.gob.ar/eyc/wp-content/uploads/2011/01/DT011123-ID.jpg)"
        },
        {
            "cell_type": "markdown",
            "metadata": {},
            "source": "## Business Problem"
        },
        {
            "cell_type": "markdown",
            "metadata": {},
            "source": "One thing you should know if there any similar business around. The analysis aims to understand which are the actual kind of venue in the selected neighborhood and its frequency. And train a clustering model to identifying similar neighborhoods. These things will help you to take a better decision or you could check for similar neighborhood and check the near venues again."
        },
        {
            "cell_type": "markdown",
            "metadata": {},
            "source": "![Foto_2](https://www.formacionlideres.com/wp-content/uploads/ubicacion-efl.png)"
        },
        {
            "cell_type": "code",
            "execution_count": null,
            "metadata": {},
            "outputs": [],
            "source": ""
        }
    ],
    "metadata": {
        "kernelspec": {
            "display_name": "Python 3.6",
            "language": "python",
            "name": "python3"
        },
        "language_info": {
            "codemirror_mode": {
                "name": "ipython",
                "version": 3
            },
            "file_extension": ".py",
            "mimetype": "text/x-python",
            "name": "python",
            "nbconvert_exporter": "python",
            "pygments_lexer": "ipython3",
            "version": "3.6.9"
        }
    },
    "nbformat": 4,
    "nbformat_minor": 1
}