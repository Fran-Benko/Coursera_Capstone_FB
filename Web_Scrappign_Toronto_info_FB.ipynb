{
    "cells": [
        {
            "cell_type": "markdown",
            "metadata": {},
            "source": "# Toronto Neighbourhood Web Scrapping"
        },
        {
            "cell_type": "markdown",
            "metadata": {},
            "source": "### Checking for the new libraries needed\n\n- beautifulsoup4\n- lxml\n- request"
        },
        {
            "cell_type": "code",
            "execution_count": 1,
            "metadata": {
                "scrolled": true
            },
            "outputs": [
                {
                    "name": "stdout",
                    "output_type": "stream",
                    "text": "Requirement already satisfied: beautifulsoup4 in /opt/conda/envs/Python36/lib/python3.6/site-packages (4.7.1)\nRequirement already satisfied: soupsieve>=1.2 in /opt/conda/envs/Python36/lib/python3.6/site-packages (from beautifulsoup4) (1.7.1)\nRequirement already satisfied: lxml in /opt/conda/envs/Python36/lib/python3.6/site-packages (4.3.1)\nCollecting request\n  Downloading https://files.pythonhosted.org/packages/f1/27/7cbde262d854aedf217061a97020d66a63163c5c04e0ec02ff98c5d8f44e/request-2019.4.13.tar.gz\nCollecting get (from request)\n  Downloading https://files.pythonhosted.org/packages/3f/ef/bb46f77f7220ac1b7edba0c76d810c89fddb24ddd8c08f337b9b4a618db7/get-2019.4.13.tar.gz\nCollecting post (from request)\n  Downloading https://files.pythonhosted.org/packages/0f/05/bd79da5849ea6a92485ed7029ef97b1b75e55c26bc0ed3a7ec769af666f3/post-2019.4.13.tar.gz\nRequirement already satisfied: setuptools in /opt/conda/envs/Python36/lib/python3.6/site-packages (from request) (40.8.0)\nCollecting query_string (from get->request)\n  Downloading https://files.pythonhosted.org/packages/12/3c/412a45daf5bea9b1d06d7de41787ec4168001dfa418db7ec8723356b119f/query-string-2019.4.13.tar.gz\nCollecting public (from query_string->get->request)\n  Downloading https://files.pythonhosted.org/packages/54/4d/b40004cc6c07665e48af22cfe1e631f219bf4282e15fa76a5b6364f6885c/public-2019.4.13.tar.gz\nBuilding wheels for collected packages: request, get, post, query-string, public\n  Building wheel for request (setup.py) ... \u001b[?25ldone\n\u001b[?25h  Stored in directory: /home/dsxuser/.cache/pip/wheels/30/84/5f/484cfba678967ef58c16fce6890925d5c7172622f20111fbfd\n  Building wheel for get (setup.py) ... \u001b[?25ldone\n\u001b[?25h  Stored in directory: /home/dsxuser/.cache/pip/wheels/c1/e3/c1/d02c8c58538853e4c9b78cadb74f6d5c5c370b48a69a7271aa\n  Building wheel for post (setup.py) ... \u001b[?25ldone\n\u001b[?25h  Stored in directory: /home/dsxuser/.cache/pip/wheels/c3/c3/24/b5c132b537ab380c02d69e6bd4dec1f5db56b5fe19030473d7\n  Building wheel for query-string (setup.py) ... \u001b[?25ldone\n\u001b[?25h  Stored in directory: /home/dsxuser/.cache/pip/wheels/d6/a4/78/01b20a9dc224dcc009fab669f7f27b943b8889c5150bd68d8a\n  Building wheel for public (setup.py) ... \u001b[?25ldone\n\u001b[?25h  Stored in directory: /home/dsxuser/.cache/pip/wheels/23/7c/6e/f5b4e09d6596c8b8802b347e48f149031e2363368048f1347a\nSuccessfully built request get post query-string public\nInstalling collected packages: public, query-string, get, post, request\nSuccessfully installed get-2019.4.13 post-2019.4.13 public-2019.4.13 query-string-2019.4.13 request-2019.4.13\n"
                }
            ],
            "source": "\n!pip install beautifulsoup4\n!pip install lxml\n!pip install request"
        },
        {
            "cell_type": "markdown",
            "metadata": {},
            "source": "### Importing the libraries"
        },
        {
            "cell_type": "code",
            "execution_count": 2,
            "metadata": {},
            "outputs": [],
            "source": "from bs4 import BeautifulSoup\nimport requests\nimport pandas as pd\nimport numpy as np"
        },
        {
            "cell_type": "markdown",
            "metadata": {},
            "source": "### Web Scrap phase"
        },
        {
            "cell_type": "code",
            "execution_count": 3,
            "metadata": {},
            "outputs": [],
            "source": "#getting the source code from the url\nsource = requests.get('https://en.wikipedia.org/wiki/List_of_postal_codes_of_Canada:_M').text"
        },
        {
            "cell_type": "code",
            "execution_count": 5,
            "metadata": {},
            "outputs": [],
            "source": "#set the html object\nsoup = BeautifulSoup(source,'lxml')\n"
        },
        {
            "cell_type": "code",
            "execution_count": 6,
            "metadata": {},
            "outputs": [],
            "source": "#Extracting the table from the source code\ntable=soup.find('table',class_='wikitable sortable')\n"
        },
        {
            "cell_type": "code",
            "execution_count": 7,
            "metadata": {},
            "outputs": [],
            "source": "#Creating a list to contain the text from the rows of the HTML table\nrow_test=[]\nfor row in table.find_all('tr'):\n    row_test.append(row.text)\n"
        },
        {
            "cell_type": "code",
            "execution_count": 8,
            "metadata": {},
            "outputs": [],
            "source": "#Removing /n text \nrow_test=[value.split('\\n') for value in row_test]\n"
        },
        {
            "cell_type": "code",
            "execution_count": 9,
            "metadata": {},
            "outputs": [],
            "source": "#Creating the first df\ndf=pd.DataFrame(row_test[1:],columns=row_test[0])\n#Reshapping the df\ndf=df[['Postcode','Borough','Neighbourhood']]"
        },
        {
            "cell_type": "markdown",
            "metadata": {},
            "source": "### Data Wrangling phase "
        },
        {
            "cell_type": "code",
            "execution_count": 10,
            "metadata": {},
            "outputs": [],
            "source": "#Setting the non assigned values as nan\ndf.replace(\"Not assigned\",np.nan,inplace=True)"
        },
        {
            "cell_type": "code",
            "execution_count": 11,
            "metadata": {},
            "outputs": [],
            "source": "#Removing the nan values\ndf.dropna(inplace=True)"
        },
        {
            "cell_type": "code",
            "execution_count": 12,
            "metadata": {},
            "outputs": [
                {
                    "data": {
                        "text/plain": "102"
                    },
                    "execution_count": 12,
                    "metadata": {},
                    "output_type": "execute_result"
                }
            ],
            "source": "#Checking the amount of unique postcodes\npostcode=list(df['Postcode'].unique())\nlen(postcode)"
        },
        {
            "cell_type": "code",
            "execution_count": 13,
            "metadata": {},
            "outputs": [
                {
                    "data": {
                        "text/plain": "10"
                    },
                    "execution_count": 13,
                    "metadata": {},
                    "output_type": "execute_result"
                }
            ],
            "source": "#Checking the amount of unique borough\nborough=list(df['Borough'].unique())\nlen(borough)"
        },
        {
            "cell_type": "code",
            "execution_count": 27,
            "metadata": {},
            "outputs": [],
            "source": "\no_post=[]\no_boro=[]\no_neig=[]\nfor i in postcode:\n    o_post.append(str(i))\n    o_boro.append(list(df[df['Postcode']==str(i)].Borough))\n    o_neig.append(list(df[df['Postcode']==str(i)].Neighbourhood))"
        },
        {
            "cell_type": "code",
            "execution_count": 42,
            "metadata": {},
            "outputs": [
                {
                    "data": {
                        "text/plain": "[{'North York'},\n {'North York'},\n {'Downtown Toronto'},\n {'North York'},\n {'Downtown Toronto'},\n {'Scarborough'},\n {'North York'},\n {'East York'},\n {'Downtown Toronto'},\n {'North York'},\n {'Etobicoke'},\n {'Scarborough'},\n {'North York'},\n {'East York'},\n {'Downtown Toronto'},\n {'York'},\n {'Etobicoke'},\n {'Scarborough'},\n {'East Toronto'},\n {'Downtown Toronto'},\n {'York'},\n {'Scarborough'},\n {'East York'},\n {'Downtown Toronto'},\n {'Downtown Toronto'},\n {'Scarborough'},\n {'North York'},\n {'North York'},\n {'East York'},\n {'Downtown Toronto'},\n {'West Toronto'},\n {'Scarborough'},\n {'North York'},\n {'North York'},\n {'East York'},\n {'Downtown Toronto'},\n {'West Toronto'},\n {'Scarborough'},\n {'North York'},\n {'North York'},\n {'East Toronto'},\n {'Downtown Toronto'},\n {'West Toronto'},\n {'Scarborough'},\n {'North York'},\n {'North York'},\n {'East Toronto'},\n {'Downtown Toronto'},\n {'North York'},\n {'North York'},\n {'Scarborough'},\n {'North York'},\n {'North York'},\n {'East Toronto'},\n {'North York'},\n {'York'},\n {'North York'},\n {'Scarborough'},\n {'North York'},\n {'North York'},\n {'Central Toronto'},\n {'Central Toronto'},\n {'York'},\n {'York'},\n {'Scarborough'},\n {'North York'},\n {'Central Toronto'},\n {'Central Toronto'},\n {'West Toronto'},\n {'Etobicoke'},\n {'Scarborough'},\n {'North York'},\n {'Central Toronto'},\n {'Central Toronto'},\n {'West Toronto'},\n {'Mississauga'},\n {'Etobicoke'},\n {'Scarborough'},\n {'Central Toronto'},\n {'Downtown Toronto'},\n {'West Toronto'},\n {'Scarborough'},\n {'Central Toronto'},\n {'Downtown Toronto'},\n {'Scarborough'},\n {'Central Toronto'},\n {'Downtown Toronto'},\n {'Etobicoke'},\n {'Etobicoke'},\n {'Scarborough'},\n {'Downtown Toronto'},\n {'Downtown Toronto'},\n {'Etobicoke'},\n {'Etobicoke'},\n {'Scarborough'},\n {'Downtown Toronto'},\n {'Downtown Toronto'},\n {'Etobicoke'},\n {'Downtown Toronto'},\n {'East Toronto'},\n {'Etobicoke'},\n {'Etobicoke'}]"
                    },
                    "execution_count": 42,
                    "metadata": {},
                    "output_type": "execute_result"
                }
            ],
            "source": "#Check if there are two borough in the same postcode\n[set(sublist) for sublist in o_boro]"
        },
        {
            "cell_type": "code",
            "execution_count": 43,
            "metadata": {},
            "outputs": [],
            "source": "#Saving the unique values of the borough instead of having a list of lists.\no_boro = [sublist[0] for sublist in o_boro]"
        },
        {
            "cell_type": "code",
            "execution_count": 106,
            "metadata": {},
            "outputs": [],
            "source": "#Removing the characters like '',[] and saving it in o_neig as a list\no_neig=[str(value).translate(str.maketrans(\"'\",\" \")).strip(\"[ ]\") for value in o_neig]"
        },
        {
            "cell_type": "code",
            "execution_count": 140,
            "metadata": {},
            "outputs": [],
            "source": "#Building the final DF and removing the characters \"\"\ndf_final=pd.DataFrame({\"Postcode\" : o_post, \"Borough\" : o_boro, \"Neigbourhood\": o_neig})\ndf_final[\"Neigbourhood\"].replace('\\\"',\"\",regex=True,inplace=True)"
        },
        {
            "cell_type": "code",
            "execution_count": 141,
            "metadata": {},
            "outputs": [
                {
                    "data": {
                        "text/html": "<div>\n<style scoped>\n    .dataframe tbody tr th:only-of-type {\n        vertical-align: middle;\n    }\n\n    .dataframe tbody tr th {\n        vertical-align: top;\n    }\n\n    .dataframe thead th {\n        text-align: right;\n    }\n</style>\n<table border=\"1\" class=\"dataframe\">\n  <thead>\n    <tr style=\"text-align: right;\">\n      <th></th>\n      <th>Postcode</th>\n      <th>Borough</th>\n      <th>Neigbourhood</th>\n    </tr>\n  </thead>\n  <tbody>\n    <tr>\n      <th>0</th>\n      <td>M3A</td>\n      <td>North York</td>\n      <td>Parkwoods</td>\n    </tr>\n    <tr>\n      <th>1</th>\n      <td>M4A</td>\n      <td>North York</td>\n      <td>Victoria Village</td>\n    </tr>\n    <tr>\n      <th>2</th>\n      <td>M5A</td>\n      <td>Downtown Toronto</td>\n      <td>Harbourfront</td>\n    </tr>\n    <tr>\n      <th>3</th>\n      <td>M6A</td>\n      <td>North York</td>\n      <td>Lawrence Heights ,  Lawrence Manor</td>\n    </tr>\n    <tr>\n      <th>4</th>\n      <td>M7A</td>\n      <td>Downtown Toronto</td>\n      <td>Queen s Park</td>\n    </tr>\n    <tr>\n      <th>5</th>\n      <td>M1B</td>\n      <td>Scarborough</td>\n      <td>Rouge ,  Malvern</td>\n    </tr>\n    <tr>\n      <th>6</th>\n      <td>M3B</td>\n      <td>North York</td>\n      <td>Don Mills North</td>\n    </tr>\n    <tr>\n      <th>7</th>\n      <td>M4B</td>\n      <td>East York</td>\n      <td>Woodbine Gardens ,  Parkview Hill</td>\n    </tr>\n    <tr>\n      <th>8</th>\n      <td>M5B</td>\n      <td>Downtown Toronto</td>\n      <td>Ryerson ,  Garden District</td>\n    </tr>\n    <tr>\n      <th>9</th>\n      <td>M6B</td>\n      <td>North York</td>\n      <td>Glencairn</td>\n    </tr>\n    <tr>\n      <th>10</th>\n      <td>M9B</td>\n      <td>Etobicoke</td>\n      <td>Cloverdale ,  Islington ,  Martin Grove ,  Pri...</td>\n    </tr>\n    <tr>\n      <th>11</th>\n      <td>M1C</td>\n      <td>Scarborough</td>\n      <td>Highland Creek ,  Rouge Hill ,  Port Union</td>\n    </tr>\n    <tr>\n      <th>12</th>\n      <td>M3C</td>\n      <td>North York</td>\n      <td>Flemingdon Park ,  Don Mills South</td>\n    </tr>\n    <tr>\n      <th>13</th>\n      <td>M4C</td>\n      <td>East York</td>\n      <td>Woodbine Heights</td>\n    </tr>\n    <tr>\n      <th>14</th>\n      <td>M5C</td>\n      <td>Downtown Toronto</td>\n      <td>St. James Town</td>\n    </tr>\n    <tr>\n      <th>15</th>\n      <td>M6C</td>\n      <td>York</td>\n      <td>Humewood-Cedarvale</td>\n    </tr>\n    <tr>\n      <th>16</th>\n      <td>M9C</td>\n      <td>Etobicoke</td>\n      <td>Bloordale Gardens ,  Eringate ,  Markland Wood...</td>\n    </tr>\n    <tr>\n      <th>17</th>\n      <td>M1E</td>\n      <td>Scarborough</td>\n      <td>Guildwood ,  Morningside ,  West Hill</td>\n    </tr>\n    <tr>\n      <th>18</th>\n      <td>M4E</td>\n      <td>East Toronto</td>\n      <td>The Beaches</td>\n    </tr>\n    <tr>\n      <th>19</th>\n      <td>M5E</td>\n      <td>Downtown Toronto</td>\n      <td>Berczy Park</td>\n    </tr>\n    <tr>\n      <th>20</th>\n      <td>M6E</td>\n      <td>York</td>\n      <td>Caledonia-Fairbanks</td>\n    </tr>\n    <tr>\n      <th>21</th>\n      <td>M1G</td>\n      <td>Scarborough</td>\n      <td>Woburn</td>\n    </tr>\n    <tr>\n      <th>22</th>\n      <td>M4G</td>\n      <td>East York</td>\n      <td>Leaside</td>\n    </tr>\n    <tr>\n      <th>23</th>\n      <td>M5G</td>\n      <td>Downtown Toronto</td>\n      <td>Central Bay Street</td>\n    </tr>\n    <tr>\n      <th>24</th>\n      <td>M6G</td>\n      <td>Downtown Toronto</td>\n      <td>Christie</td>\n    </tr>\n    <tr>\n      <th>25</th>\n      <td>M1H</td>\n      <td>Scarborough</td>\n      <td>Cedarbrae</td>\n    </tr>\n    <tr>\n      <th>26</th>\n      <td>M2H</td>\n      <td>North York</td>\n      <td>Hillcrest Village</td>\n    </tr>\n    <tr>\n      <th>27</th>\n      <td>M3H</td>\n      <td>North York</td>\n      <td>Bathurst Manor ,  Downsview North ,  Wilson He...</td>\n    </tr>\n    <tr>\n      <th>28</th>\n      <td>M4H</td>\n      <td>East York</td>\n      <td>Thorncliffe Park</td>\n    </tr>\n    <tr>\n      <th>29</th>\n      <td>M5H</td>\n      <td>Downtown Toronto</td>\n      <td>Adelaide ,  King ,  Richmond</td>\n    </tr>\n    <tr>\n      <th>...</th>\n      <td>...</td>\n      <td>...</td>\n      <td>...</td>\n    </tr>\n    <tr>\n      <th>72</th>\n      <td>M4R</td>\n      <td>Central Toronto</td>\n      <td>North Toronto West</td>\n    </tr>\n    <tr>\n      <th>73</th>\n      <td>M5R</td>\n      <td>Central Toronto</td>\n      <td>The Annex ,  North Midtown ,  Yorkville</td>\n    </tr>\n    <tr>\n      <th>74</th>\n      <td>M6R</td>\n      <td>West Toronto</td>\n      <td>Parkdale ,  Roncesvalles</td>\n    </tr>\n    <tr>\n      <th>75</th>\n      <td>M7R</td>\n      <td>Mississauga</td>\n      <td>Canada Post Gateway Processing Centre</td>\n    </tr>\n    <tr>\n      <th>76</th>\n      <td>M9R</td>\n      <td>Etobicoke</td>\n      <td>Kingsview Village ,  Martin Grove Gardens ,  R...</td>\n    </tr>\n    <tr>\n      <th>77</th>\n      <td>M1S</td>\n      <td>Scarborough</td>\n      <td>Agincourt</td>\n    </tr>\n    <tr>\n      <th>78</th>\n      <td>M4S</td>\n      <td>Central Toronto</td>\n      <td>Davisville</td>\n    </tr>\n    <tr>\n      <th>79</th>\n      <td>M5S</td>\n      <td>Downtown Toronto</td>\n      <td>Harbord ,  University of Toronto</td>\n    </tr>\n    <tr>\n      <th>80</th>\n      <td>M6S</td>\n      <td>West Toronto</td>\n      <td>Runnymede ,  Swansea</td>\n    </tr>\n    <tr>\n      <th>81</th>\n      <td>M1T</td>\n      <td>Scarborough</td>\n      <td>Clarks Corners ,  Sullivan , Tam O Shanter</td>\n    </tr>\n    <tr>\n      <th>82</th>\n      <td>M4T</td>\n      <td>Central Toronto</td>\n      <td>Moore Park ,  Summerhill East</td>\n    </tr>\n    <tr>\n      <th>83</th>\n      <td>M5T</td>\n      <td>Downtown Toronto</td>\n      <td>Chinatown ,  Grange Park ,  Kensington Market</td>\n    </tr>\n    <tr>\n      <th>84</th>\n      <td>M1V</td>\n      <td>Scarborough</td>\n      <td>Agincourt North , L Amoreaux East,  Milliken ,...</td>\n    </tr>\n    <tr>\n      <th>85</th>\n      <td>M4V</td>\n      <td>Central Toronto</td>\n      <td>Deer Park ,  Forest Hill SE ,  Rathnelly ,  So...</td>\n    </tr>\n    <tr>\n      <th>86</th>\n      <td>M5V</td>\n      <td>Downtown Toronto</td>\n      <td>CN Tower ,  Bathurst Quay ,  Island airport , ...</td>\n    </tr>\n    <tr>\n      <th>87</th>\n      <td>M8V</td>\n      <td>Etobicoke</td>\n      <td>Humber Bay Shores ,  Mimico South ,  New Toronto</td>\n    </tr>\n    <tr>\n      <th>88</th>\n      <td>M9V</td>\n      <td>Etobicoke</td>\n      <td>Albion Gardens ,  Beaumond Heights ,  Humberga...</td>\n    </tr>\n    <tr>\n      <th>89</th>\n      <td>M1W</td>\n      <td>Scarborough</td>\n      <td>L Amoreaux West</td>\n    </tr>\n    <tr>\n      <th>90</th>\n      <td>M4W</td>\n      <td>Downtown Toronto</td>\n      <td>Rosedale</td>\n    </tr>\n    <tr>\n      <th>91</th>\n      <td>M5W</td>\n      <td>Downtown Toronto</td>\n      <td>Stn A PO Boxes 25 The Esplanade</td>\n    </tr>\n    <tr>\n      <th>92</th>\n      <td>M8W</td>\n      <td>Etobicoke</td>\n      <td>Alderwood ,  Long Branch</td>\n    </tr>\n    <tr>\n      <th>93</th>\n      <td>M9W</td>\n      <td>Etobicoke</td>\n      <td>Northwest</td>\n    </tr>\n    <tr>\n      <th>94</th>\n      <td>M1X</td>\n      <td>Scarborough</td>\n      <td>Upper Rouge</td>\n    </tr>\n    <tr>\n      <th>95</th>\n      <td>M4X</td>\n      <td>Downtown Toronto</td>\n      <td>Cabbagetown ,  St. James Town</td>\n    </tr>\n    <tr>\n      <th>96</th>\n      <td>M5X</td>\n      <td>Downtown Toronto</td>\n      <td>First Canadian Place ,  Underground city</td>\n    </tr>\n    <tr>\n      <th>97</th>\n      <td>M8X</td>\n      <td>Etobicoke</td>\n      <td>The Kingsway ,  Montgomery Road ,  Old Mill North</td>\n    </tr>\n    <tr>\n      <th>98</th>\n      <td>M4Y</td>\n      <td>Downtown Toronto</td>\n      <td>Church and Wellesley</td>\n    </tr>\n    <tr>\n      <th>99</th>\n      <td>M7Y</td>\n      <td>East Toronto</td>\n      <td>Business Reply Mail Processing Centre 969 Eastern</td>\n    </tr>\n    <tr>\n      <th>100</th>\n      <td>M8Y</td>\n      <td>Etobicoke</td>\n      <td>Humber Bay , King s Mill Park,  Kingsway Park ...</td>\n    </tr>\n    <tr>\n      <th>101</th>\n      <td>M8Z</td>\n      <td>Etobicoke</td>\n      <td>Kingsway Park South West ,  Mimico NW ,  The Q...</td>\n    </tr>\n  </tbody>\n</table>\n<p>102 rows \u00d7 3 columns</p>\n</div>",
                        "text/plain": "    Postcode           Borough  \\\n0        M3A        North York   \n1        M4A        North York   \n2        M5A  Downtown Toronto   \n3        M6A        North York   \n4        M7A  Downtown Toronto   \n5        M1B       Scarborough   \n6        M3B        North York   \n7        M4B         East York   \n8        M5B  Downtown Toronto   \n9        M6B        North York   \n10       M9B         Etobicoke   \n11       M1C       Scarborough   \n12       M3C        North York   \n13       M4C         East York   \n14       M5C  Downtown Toronto   \n15       M6C              York   \n16       M9C         Etobicoke   \n17       M1E       Scarborough   \n18       M4E      East Toronto   \n19       M5E  Downtown Toronto   \n20       M6E              York   \n21       M1G       Scarborough   \n22       M4G         East York   \n23       M5G  Downtown Toronto   \n24       M6G  Downtown Toronto   \n25       M1H       Scarborough   \n26       M2H        North York   \n27       M3H        North York   \n28       M4H         East York   \n29       M5H  Downtown Toronto   \n..       ...               ...   \n72       M4R   Central Toronto   \n73       M5R   Central Toronto   \n74       M6R      West Toronto   \n75       M7R       Mississauga   \n76       M9R         Etobicoke   \n77       M1S       Scarborough   \n78       M4S   Central Toronto   \n79       M5S  Downtown Toronto   \n80       M6S      West Toronto   \n81       M1T       Scarborough   \n82       M4T   Central Toronto   \n83       M5T  Downtown Toronto   \n84       M1V       Scarborough   \n85       M4V   Central Toronto   \n86       M5V  Downtown Toronto   \n87       M8V         Etobicoke   \n88       M9V         Etobicoke   \n89       M1W       Scarborough   \n90       M4W  Downtown Toronto   \n91       M5W  Downtown Toronto   \n92       M8W         Etobicoke   \n93       M9W         Etobicoke   \n94       M1X       Scarborough   \n95       M4X  Downtown Toronto   \n96       M5X  Downtown Toronto   \n97       M8X         Etobicoke   \n98       M4Y  Downtown Toronto   \n99       M7Y      East Toronto   \n100      M8Y         Etobicoke   \n101      M8Z         Etobicoke   \n\n                                          Neigbourhood  \n0                                            Parkwoods  \n1                                     Victoria Village  \n2                                         Harbourfront  \n3                   Lawrence Heights ,  Lawrence Manor  \n4                                         Queen s Park  \n5                                     Rouge ,  Malvern  \n6                                      Don Mills North  \n7                    Woodbine Gardens ,  Parkview Hill  \n8                           Ryerson ,  Garden District  \n9                                            Glencairn  \n10   Cloverdale ,  Islington ,  Martin Grove ,  Pri...  \n11          Highland Creek ,  Rouge Hill ,  Port Union  \n12                  Flemingdon Park ,  Don Mills South  \n13                                    Woodbine Heights  \n14                                      St. James Town  \n15                                  Humewood-Cedarvale  \n16   Bloordale Gardens ,  Eringate ,  Markland Wood...  \n17               Guildwood ,  Morningside ,  West Hill  \n18                                         The Beaches  \n19                                         Berczy Park  \n20                                 Caledonia-Fairbanks  \n21                                              Woburn  \n22                                             Leaside  \n23                                  Central Bay Street  \n24                                            Christie  \n25                                           Cedarbrae  \n26                                   Hillcrest Village  \n27   Bathurst Manor ,  Downsview North ,  Wilson He...  \n28                                    Thorncliffe Park  \n29                        Adelaide ,  King ,  Richmond  \n..                                                 ...  \n72                                  North Toronto West  \n73             The Annex ,  North Midtown ,  Yorkville  \n74                            Parkdale ,  Roncesvalles  \n75               Canada Post Gateway Processing Centre  \n76   Kingsview Village ,  Martin Grove Gardens ,  R...  \n77                                           Agincourt  \n78                                          Davisville  \n79                    Harbord ,  University of Toronto  \n80                                Runnymede ,  Swansea  \n81          Clarks Corners ,  Sullivan , Tam O Shanter  \n82                       Moore Park ,  Summerhill East  \n83       Chinatown ,  Grange Park ,  Kensington Market  \n84   Agincourt North , L Amoreaux East,  Milliken ,...  \n85   Deer Park ,  Forest Hill SE ,  Rathnelly ,  So...  \n86   CN Tower ,  Bathurst Quay ,  Island airport , ...  \n87    Humber Bay Shores ,  Mimico South ,  New Toronto  \n88   Albion Gardens ,  Beaumond Heights ,  Humberga...  \n89                                     L Amoreaux West  \n90                                            Rosedale  \n91                     Stn A PO Boxes 25 The Esplanade  \n92                            Alderwood ,  Long Branch  \n93                                           Northwest  \n94                                         Upper Rouge  \n95                       Cabbagetown ,  St. James Town  \n96            First Canadian Place ,  Underground city  \n97   The Kingsway ,  Montgomery Road ,  Old Mill North  \n98                                Church and Wellesley  \n99   Business Reply Mail Processing Centre 969 Eastern  \n100  Humber Bay , King s Mill Park,  Kingsway Park ...  \n101  Kingsway Park South West ,  Mimico NW ,  The Q...  \n\n[102 rows x 3 columns]"
                    },
                    "execution_count": 141,
                    "metadata": {},
                    "output_type": "execute_result"
                }
            ],
            "source": "df_final"
        },
        {
            "cell_type": "code",
            "execution_count": 142,
            "metadata": {},
            "outputs": [
                {
                    "data": {
                        "text/plain": "(102, 3)"
                    },
                    "execution_count": 142,
                    "metadata": {},
                    "output_type": "execute_result"
                }
            ],
            "source": "df_final.shape"
        },
        {
            "cell_type": "code",
            "execution_count": null,
            "metadata": {},
            "outputs": [],
            "source": ""
        }
    ],
    "metadata": {
        "kernelspec": {
            "display_name": "Python 3.6",
            "language": "python",
            "name": "python3"
        },
        "language_info": {
            "codemirror_mode": {
                "name": "ipython",
                "version": 3
            },
            "file_extension": ".py",
            "mimetype": "text/x-python",
            "name": "python",
            "nbconvert_exporter": "python",
            "pygments_lexer": "ipython3",
            "version": "3.6.9"
        }
    },
    "nbformat": 4,
    "nbformat_minor": 1
}