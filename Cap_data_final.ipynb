{
    "cells": [
        {
            "cell_type": "markdown",
            "metadata": {
                "collapsed": true
            },
            "source": "# Buenos Aires Neighborhood Analysis by Franco Benko"
        },
        {
            "cell_type": "markdown",
            "metadata": {},
            "source": "## Data Section"
        },
        {
            "cell_type": "markdown",
            "metadata": {},
            "source": "About the data, I apply web scrapping to get the name of the Buenos Aires neighborhoods and it's geological coordinates.\n\nFrom this web site: https://www.coordenadas.com.es/argentina/pueblos-de-ciudad-buenos-aires/7/1\n\n\n\n\nThen I am going to use that coordinates to get the information of the venues from the Foursquare API and analyze it.\n"
        },
        {
            "cell_type": "markdown",
            "metadata": {},
            "source": "![foto_1](https://upload.wikimedia.org/wikipedia/commons/f/ff/HabxbarrioBSAS.jpg)"
        },
        {
            "cell_type": "markdown",
            "metadata": {},
            "source": "From the table I am going to take:\n- Name of the neighborhood\n- Longitude\n- Latitude"
        },
        {
            "cell_type": "markdown",
            "metadata": {},
            "source": "From the Foursquare API I am going to take:\n- NAme "
        }
    ],
    "metadata": {
        "kernelspec": {
            "display_name": "Python 3.6",
            "language": "python",
            "name": "python3"
        },
        "language_info": {
            "codemirror_mode": {
                "name": "ipython",
                "version": 3
            },
            "file_extension": ".py",
            "mimetype": "text/x-python",
            "name": "python",
            "nbconvert_exporter": "python",
            "pygments_lexer": "ipython3",
            "version": "3.6.9"
        }
    },
    "nbformat": 4,
    "nbformat_minor": 1
}